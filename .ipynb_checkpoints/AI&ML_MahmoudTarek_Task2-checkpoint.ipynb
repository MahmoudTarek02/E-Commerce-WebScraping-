{
 "cells": [
  {
   "cell_type": "markdown",
   "id": "ff6cfbe8",
   "metadata": {},
   "source": [
    "# Imports"
   ]
  },
  {
   "cell_type": "code",
   "execution_count": 1,
   "id": "c450c71e",
   "metadata": {},
   "outputs": [],
   "source": [
    "import requests\n",
    "from bs4 import BeautifulSoup\n",
    "import pandas as pd\n",
    "import time"
   ]
  },
  {
   "cell_type": "markdown",
   "id": "ef424813",
   "metadata": {},
   "source": [
    "# Define constants (headers & base URL)"
   ]
  },
  {
   "cell_type": "code",
   "execution_count": 2,
   "id": "feb2b968",
   "metadata": {},
   "outputs": [],
   "source": [
    "headers = {\n",
    "    'User-Agent': 'Mozilla/5.0 (Windows NT 10.0; Win64; x64)'\n",
    "}\n",
    "base_url = \"https://www.jumia.com.ng/laptops/?page={}\"\n",
    "products = []"
   ]
  },
  {
   "cell_type": "markdown",
   "id": "fd43a5cb",
   "metadata": {},
   "source": [
    "# Function to get reviews for certian product"
   ]
  },
  {
   "cell_type": "code",
   "execution_count": 3,
   "id": "ad80a5e0",
   "metadata": {},
   "outputs": [],
   "source": [
    "def get_reviews(product_url):\n",
    "\n",
    "    try:\n",
    "        resp = requests.get(product_url, headers=headers, timeout=10)\n",
    "        if resp.status_code != 200:\n",
    "            return None, None\n",
    "\n",
    "        soup = BeautifulSoup(resp.text, 'html.parser')\n",
    "\n",
    "        rating_tag = soup.find(string=lambda t: t and \"out of 5\" in t)\n",
    "        rating = rating_tag.strip() if rating_tag else None\n",
    "\n",
    "        num_reviews = None\n",
    "        for tag in soup.find_all(string=lambda t: t and \"verified ratings\" in t):\n",
    "            num_reviews = tag.strip()\n",
    "            break\n",
    "\n",
    "        return rating, num_reviews\n",
    "\n",
    "    except Exception as e:\n",
    "        print(f\"Error fetching reviews for {product_url}: {e}\")\n",
    "        return None, None\n"
   ]
  },
  {
   "cell_type": "markdown",
   "id": "b6a6563a",
   "metadata": {},
   "source": [
    "## Scraping multiple pages with live progress updates"
   ]
  },
  {
   "cell_type": "code",
   "execution_count": null,
   "id": "986a3dbe",
   "metadata": {},
   "outputs": [
    {
     "name": "stdout",
     "output_type": "stream",
     "text": [
      "Scraping page 1...\n"
     ]
    }
   ],
   "source": [
    "import requests\n",
    "from requests.exceptions import ReadTimeout, ConnectionError\n",
    "import time\n",
    "\n",
    "number_of_pages = 5\n",
    "\n",
    "for page in range(1, number_of_pages + 1):\n",
    "    print(f\"Scraping page {page}...\")\n",
    "\n",
    "    try:\n",
    "        resp = requests.get(base_url.format(page), headers=headers, timeout=20)  # longer timeout\n",
    "        resp.raise_for_status()\n",
    "    except (ReadTimeout, ConnectionError) as e:\n",
    "        print(f\"⚠️ Timeout/Connection error on page {page}, skipping... ({e})\")\n",
    "        continue\n",
    "\n",
    "    soup = BeautifulSoup(resp.text, 'html.parser')\n",
    "    items = soup.select('a.core')\n",
    "    if not items:\n",
    "        print(f\"⚠️ No items found on page {page}\")\n",
    "        continue\n",
    "\n",
    "    for idx, item in enumerate(items, start=1):\n",
    "        title_tag = item.select_one('h3.name')\n",
    "        if not title_tag:\n",
    "            continue\n",
    "        title = title_tag.text.strip()\n",
    "        if not title:\n",
    "            continue\n",
    "\n",
    "        price = item.select_one('.prc').text.strip() if item.select_one('.prc') else None\n",
    "        brand = item.get('data-gtm-brand', None)\n",
    "        product_url = \"https://www.jumia.com.ng\" + item.get('href')\n",
    "        img_tag = item.select_one('img.img')\n",
    "        image_url = img_tag.get('data-src') or img_tag.get('src') if img_tag else None\n",
    "\n",
    "        try:\n",
    "            rating, num_reviews = get_reviews(product_url)\n",
    "        except (ReadTimeout, ConnectionError):\n",
    "            rating, num_reviews = None, None\n",
    "\n",
    "        products.append({\n",
    "            'title': title,\n",
    "            'price': price,\n",
    "            'brand': brand,\n",
    "            'rating': rating,\n",
    "            'num_reviews': num_reviews,\n",
    "            'product_url': product_url,\n",
    "            'image_url': image_url\n",
    "        })\n",
    "\n",
    "        time.sleep(1)  # Delay between product requests\n",
    "\n",
    "    print(f\"Finished page {page}\")\n",
    "    time.sleep(2)  # Delay between pages\n",
    "\n",
    "print(\"Done scraping\")\n"
   ]
  },
  {
   "cell_type": "markdown",
   "id": "df75cd22",
   "metadata": {},
   "source": [
    "# Save results to CSV"
   ]
  },
  {
   "cell_type": "code",
   "execution_count": null,
   "id": "d48540fd",
   "metadata": {},
   "outputs": [],
   "source": [
    "df = pd.DataFrame(products)\n",
    "df.to_csv(\"jumia_laptops.csv\", index=False)\n",
    "print(f\"Collected {len(products)} products from (number_of_pages) pages.\")\n"
   ]
  },
  {
   "cell_type": "code",
   "execution_count": null,
   "id": "4ecdbe7c",
   "metadata": {
    "scrolled": true
   },
   "outputs": [],
   "source": [
    "df"
   ]
  },
  {
   "cell_type": "code",
   "execution_count": null,
   "id": "bc604da8",
   "metadata": {},
   "outputs": [],
   "source": []
  }
 ],
 "metadata": {
  "kernelspec": {
   "display_name": "Python 3 (ipykernel)",
   "language": "python",
   "name": "python3"
  },
  "language_info": {
   "codemirror_mode": {
    "name": "ipython",
    "version": 3
   },
   "file_extension": ".py",
   "mimetype": "text/x-python",
   "name": "python",
   "nbconvert_exporter": "python",
   "pygments_lexer": "ipython3",
   "version": "3.12.3"
  }
 },
 "nbformat": 4,
 "nbformat_minor": 5
}
